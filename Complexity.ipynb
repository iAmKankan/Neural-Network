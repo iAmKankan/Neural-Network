{
 "cells": [
  {
   "cell_type": "markdown",
   "metadata": {},
   "source": [
    "## 1. $ O(n) $\n",
    "\n",
    "```\n",
    "for(i=0;i<n;i++)  # this will run for \"n+1\" times\n",
    "    {\n",
    "     Stetement1; #---n\n",
    "    }\n",
    "```\n",
    "The result is = $ O(n) $\n",
    "\n",
    "\n",
    "```\n",
    "for(i=n;i>0;i--)  # this will run for \"n+1\" times\n",
    "    {\n",
    "     Stetement1; #---n\n",
    "    }\n",
    "```\n",
    "The result is = $ O(n) $\n",
    "\n",
    "\n",
    "\n",
    "```\n",
    "for(i=1;i<n;i=i+2)  # this will run for \"n/2\" times\n",
    "    {\n",
    "     Stetement1; #---n\n",
    "    }\n",
    "```\n",
    "The result is = $O(n)$ though $ f(n)=\\frac n{2} $;\n",
    "the degree of the polynomial is 'n'\n",
    "\n",
    "```\n",
    "for(i=1;i<n;i=i+20)  # this will run for \"n/2\" times\n",
    "    {\n",
    "     Stetement1; #---n\n",
    "    }\n",
    "```\n",
    "The result is = $O(n)$ though $ f(n)=\\frac n{20} $;\n",
    "the degree of the polynomial is 'n'\n",
    "\n",
    "---\n",
    "So, Above all those programm the degree of the polynomial is 'n' thats why it is always order of n; $O(n)$\n",
    "\n",
    "\n",
    "---\n",
    "\n",
    "\n",
    "## 2. $ O( n^2) $\n",
    "\n",
    "```\n",
    "for(i=0;i<n;i++)       # this will run for \"n+1\" times\n",
    "    {\n",
    "     for(j=0;j<n;j++)  # this will run for \"nXn+1\" times\n",
    "        {\n",
    "         Stetement1;   #---nXn\n",
    "        }\n",
    "    }\n",
    "    \n",
    "```\n",
    "The result is = $ O( n^2) $\n",
    "\n",
    "\n",
    "\n",
    "| i | j | No of Iteration |\n",
    "|-----|-----|-----------------|\n",
    "| 0 | 0 | 0 |\n",
    "| 1 | 0 | 1 |\n",
    "| 1 | 1 |  |\n",
    "| 2 | 0 | 2 |\n",
    "| 2 | 1 |  |\n",
    "|  2| 2 |  |\n",
    "| 3 | 0 | 3 |\n",
    "| 3 | 1 |  |\n",
    "| 3 | 2 |  |\n",
    "| ... | ... | ... |\n",
    "| n |  | n |\n",
    "\n",
    "\n",
    "---\n",
    "1+2+3+4+5+...+n=   $ \\frac{n(n+1)} {2}$    \n",
    "* $f(n)=  \\frac{n^2+n} {2}$\n",
    "* $O{n^2} $\n",
    "---\n",
    "\n",
    "\n",
    "\n",
    "\n",
    "## 3. $O({\\sqrt n})$\n",
    "\n",
    "```\n",
    "p=0\n",
    "for(i=0;p<=n;i++)  # this will run for \"n+1\" times\n",
    "    {\n",
    "     p=p+i; #---n\n",
    "    }\n",
    "    \n",
    "```\n",
    "\n",
    "| i | p |\n",
    "|-----|---------|\n",
    "| 1 | 0+1=1 |\n",
    "| 2 | 1+2=3 |\n",
    "| 3 | 1+2+3=6 |\n",
    "| ... | ... |\n",
    "| K |1+2+3+4+..+K  |\n",
    "\n",
    "\n",
    "#### Assume that $p>n$ then only the loop will get terminated.\n",
    "\n",
    "\n",
    "$\\because$ $p=\\frac {k(k+1)}{2}$\n",
    "\n",
    "$=$ $\\frac {k(k+1)}{2} > n$\n",
    "\n",
    "$=$ ${k^2}> n$\n",
    "$=$ $k> {\\sqrt n}$\n",
    "\n",
    "$=$  $O({\\sqrt n})$\n",
    "\n",
    "\n",
    "\n",
    "----\n",
    "## 4. $O(\\log_2n )$\n",
    "\n",
    "```\n",
    "for(i==1;i<n;i=i*2)  # this will run for \"k\" times\n",
    "    {\n",
    "     Stetement1; #--- log n\n",
    "    }\n",
    "```\n",
    "\\begin{array}\n",
    "  &i& \\\\\n",
    "  \\hline\n",
    "  1\\\\\n",
    "  1X2=2\\\\\n",
    "  2X2=2^2 \\\\\n",
    "  2^2X2=2^3\\\\\n",
    "  ...\\\\\n",
    "  ...\\\\\n",
    "  2^k\n",
    " \\end{array}\n",
    " \n",
    "Assume $i>=n$\n",
    "\n",
    "$\\because i=2^k$\n",
    "\n",
    "$\\therefore 2^k>=n$\n",
    "\n",
    "$k=\\log_2 n$\n",
    "\n",
    "$\\therefore O(\\log_2n )$\n",
    "\n",
    "<img src=\"The+Logarithmic+Function.jpg\" width=\"500\">"
   ]
  },
  {
   "cell_type": "code",
   "execution_count": 4,
   "metadata": {},
   "outputs": [
    {
     "name": "stdout",
     "output_type": "stream",
     "text": [
      "-10\n",
      "-9\n",
      "-8\n",
      "-7\n",
      "-6\n",
      "-5\n",
      "-4\n",
      "-3\n",
      "-2\n",
      "-1\n",
      "0\n",
      "1\n",
      "2\n",
      "3\n",
      "4\n",
      "5\n",
      "6\n",
      "7\n",
      "8\n",
      "9\n"
     ]
    }
   ],
   "source": [
    "for i in range(-10,10,1):\n",
    "    print(i)"
   ]
  },
  {
   "cell_type": "code",
   "execution_count": 3,
   "metadata": {},
   "outputs": [
    {
     "data": {
      "text/plain": [
       "range(0, 22, 2)"
      ]
     },
     "execution_count": 3,
     "metadata": {},
     "output_type": "execute_result"
    }
   ],
   "source": [
    "range(0,22,2)"
   ]
  },
  {
   "cell_type": "code",
   "execution_count": 5,
   "metadata": {},
   "outputs": [],
   "source": [
    "import numpy as np"
   ]
  },
  {
   "cell_type": "code",
   "execution_count": 7,
   "metadata": {},
   "outputs": [],
   "source": [
    "a=np.linspace(-10,10,100)"
   ]
  },
  {
   "cell_type": "code",
   "execution_count": 8,
   "metadata": {},
   "outputs": [],
   "source": [
    "import matplotlib.pyplot as plt"
   ]
  },
  {
   "cell_type": "code",
   "execution_count": 11,
   "metadata": {},
   "outputs": [
    {
     "ename": "ValueError",
     "evalue": "The truth value of an array with more than one element is ambiguous. Use a.any() or a.all()",
     "output_type": "error",
     "traceback": [
      "\u001b[1;31m---------------------------------------------------------------------------\u001b[0m",
      "\u001b[1;31mValueError\u001b[0m                                Traceback (most recent call last)",
      "\u001b[1;32m<ipython-input-11-3d384083f661>\u001b[0m in \u001b[0;36m<module>\u001b[1;34m\u001b[0m\n\u001b[0;32m      1\u001b[0m \u001b[0mplt\u001b[0m\u001b[1;33m.\u001b[0m\u001b[0mhist\u001b[0m\u001b[1;33m(\u001b[0m\u001b[0ma\u001b[0m\u001b[1;33m)\u001b[0m\u001b[1;33m\u001b[0m\u001b[1;33m\u001b[0m\u001b[0m\n\u001b[1;32m----> 2\u001b[1;33m \u001b[0mplt\u001b[0m\u001b[1;33m.\u001b[0m\u001b[0mylim\u001b[0m\u001b[1;33m(\u001b[0m\u001b[1;33m[\u001b[0m\u001b[1;36m1\u001b[0m\u001b[1;33m,\u001b[0m\u001b[1;36m2\u001b[0m\u001b[1;33m,\u001b[0m\u001b[1;36m3\u001b[0m\u001b[1;33m,\u001b[0m\u001b[1;36m4\u001b[0m\u001b[1;33m,\u001b[0m\u001b[1;36m5\u001b[0m\u001b[1;33m,\u001b[0m\u001b[1;36m6\u001b[0m\u001b[1;33m,\u001b[0m\u001b[1;36m7\u001b[0m\u001b[1;33m,\u001b[0m\u001b[1;36m8\u001b[0m\u001b[1;33m,\u001b[0m\u001b[1;36m9\u001b[0m\u001b[1;33m,\u001b[0m\u001b[1;36m10\u001b[0m\u001b[1;33m]\u001b[0m\u001b[1;33m,\u001b[0m\u001b[1;36m33\u001b[0m\u001b[1;33m)\u001b[0m\u001b[1;33m\u001b[0m\u001b[1;33m\u001b[0m\u001b[0m\n\u001b[0m\u001b[0;32m      3\u001b[0m \u001b[0mplt\u001b[0m\u001b[1;33m.\u001b[0m\u001b[0mxlim\u001b[0m\u001b[1;33m(\u001b[0m\u001b[0ma\u001b[0m\u001b[1;33m)\u001b[0m\u001b[1;33m\u001b[0m\u001b[1;33m\u001b[0m\u001b[0m\n",
      "\u001b[1;32m~\\AppData\\Roaming\\Python\\Python36\\site-packages\\matplotlib\\pyplot.py\u001b[0m in \u001b[0;36mylim\u001b[1;34m(*args, **kwargs)\u001b[0m\n\u001b[0;32m   1477\u001b[0m     \u001b[1;32mif\u001b[0m \u001b[1;32mnot\u001b[0m \u001b[0margs\u001b[0m \u001b[1;32mand\u001b[0m \u001b[1;32mnot\u001b[0m \u001b[0mkwargs\u001b[0m\u001b[1;33m:\u001b[0m\u001b[1;33m\u001b[0m\u001b[1;33m\u001b[0m\u001b[0m\n\u001b[0;32m   1478\u001b[0m         \u001b[1;32mreturn\u001b[0m \u001b[0max\u001b[0m\u001b[1;33m.\u001b[0m\u001b[0mget_ylim\u001b[0m\u001b[1;33m(\u001b[0m\u001b[1;33m)\u001b[0m\u001b[1;33m\u001b[0m\u001b[1;33m\u001b[0m\u001b[0m\n\u001b[1;32m-> 1479\u001b[1;33m     \u001b[0mret\u001b[0m \u001b[1;33m=\u001b[0m \u001b[0max\u001b[0m\u001b[1;33m.\u001b[0m\u001b[0mset_ylim\u001b[0m\u001b[1;33m(\u001b[0m\u001b[1;33m*\u001b[0m\u001b[0margs\u001b[0m\u001b[1;33m,\u001b[0m \u001b[1;33m**\u001b[0m\u001b[0mkwargs\u001b[0m\u001b[1;33m)\u001b[0m\u001b[1;33m\u001b[0m\u001b[1;33m\u001b[0m\u001b[0m\n\u001b[0m\u001b[0;32m   1480\u001b[0m     \u001b[1;32mreturn\u001b[0m \u001b[0mret\u001b[0m\u001b[1;33m\u001b[0m\u001b[1;33m\u001b[0m\u001b[0m\n\u001b[0;32m   1481\u001b[0m \u001b[1;33m\u001b[0m\u001b[0m\n",
      "\u001b[1;32m~\\AppData\\Roaming\\Python\\Python36\\site-packages\\matplotlib\\axes\\_base.py\u001b[0m in \u001b[0;36mset_ylim\u001b[1;34m(self, bottom, top, emit, auto, ymin, ymax)\u001b[0m\n\u001b[0;32m   3630\u001b[0m                  'bottom=%s, top=%s') % (bottom, top), stacklevel=2)\n\u001b[0;32m   3631\u001b[0m \u001b[1;33m\u001b[0m\u001b[0m\n\u001b[1;32m-> 3632\u001b[1;33m         \u001b[0mbottom\u001b[0m\u001b[1;33m,\u001b[0m \u001b[0mtop\u001b[0m \u001b[1;33m=\u001b[0m \u001b[0mmtransforms\u001b[0m\u001b[1;33m.\u001b[0m\u001b[0mnonsingular\u001b[0m\u001b[1;33m(\u001b[0m\u001b[0mbottom\u001b[0m\u001b[1;33m,\u001b[0m \u001b[0mtop\u001b[0m\u001b[1;33m,\u001b[0m \u001b[0mincreasing\u001b[0m\u001b[1;33m=\u001b[0m\u001b[1;32mFalse\u001b[0m\u001b[1;33m)\u001b[0m\u001b[1;33m\u001b[0m\u001b[1;33m\u001b[0m\u001b[0m\n\u001b[0m\u001b[0;32m   3633\u001b[0m \u001b[1;33m\u001b[0m\u001b[0m\n\u001b[0;32m   3634\u001b[0m         \u001b[1;32mif\u001b[0m \u001b[0mself\u001b[0m\u001b[1;33m.\u001b[0m\u001b[0mget_yscale\u001b[0m\u001b[1;33m(\u001b[0m\u001b[1;33m)\u001b[0m \u001b[1;33m==\u001b[0m \u001b[1;34m'log'\u001b[0m\u001b[1;33m:\u001b[0m\u001b[1;33m\u001b[0m\u001b[1;33m\u001b[0m\u001b[0m\n",
      "\u001b[1;32m~\\AppData\\Roaming\\Python\\Python36\\site-packages\\matplotlib\\transforms.py\u001b[0m in \u001b[0;36mnonsingular\u001b[1;34m(vmin, vmax, expander, tiny, increasing)\u001b[0m\n\u001b[0;32m   2887\u001b[0m     \"\"\"\n\u001b[0;32m   2888\u001b[0m \u001b[1;33m\u001b[0m\u001b[0m\n\u001b[1;32m-> 2889\u001b[1;33m     \u001b[1;32mif\u001b[0m \u001b[1;33m(\u001b[0m\u001b[1;32mnot\u001b[0m \u001b[0mnp\u001b[0m\u001b[1;33m.\u001b[0m\u001b[0misfinite\u001b[0m\u001b[1;33m(\u001b[0m\u001b[0mvmin\u001b[0m\u001b[1;33m)\u001b[0m\u001b[1;33m)\u001b[0m \u001b[1;32mor\u001b[0m \u001b[1;33m(\u001b[0m\u001b[1;32mnot\u001b[0m \u001b[0mnp\u001b[0m\u001b[1;33m.\u001b[0m\u001b[0misfinite\u001b[0m\u001b[1;33m(\u001b[0m\u001b[0mvmax\u001b[0m\u001b[1;33m)\u001b[0m\u001b[1;33m)\u001b[0m\u001b[1;33m:\u001b[0m\u001b[1;33m\u001b[0m\u001b[1;33m\u001b[0m\u001b[0m\n\u001b[0m\u001b[0;32m   2890\u001b[0m         \u001b[1;32mreturn\u001b[0m \u001b[1;33m-\u001b[0m\u001b[0mexpander\u001b[0m\u001b[1;33m,\u001b[0m \u001b[0mexpander\u001b[0m\u001b[1;33m\u001b[0m\u001b[1;33m\u001b[0m\u001b[0m\n\u001b[0;32m   2891\u001b[0m \u001b[1;33m\u001b[0m\u001b[0m\n",
      "\u001b[1;31mValueError\u001b[0m: The truth value of an array with more than one element is ambiguous. Use a.any() or a.all()"
     ]
    },
    {
     "data": {
      "image/png": "[encoded data removed]",
      "text/plain": [
       "<Figure size 432x288 with 1 Axes>"
      ]
     },
     "metadata": {
      "needs_background": "light"
     },
     "output_type": "display_data"
    }
   ],
   "source": [
    "plt.hist(a)\n",
    "plt.ylim([1,2,3,4,5,6,7,8,9,10],33)\n",
    "plt.xlim(a)"
   ]
  },
  {
   "cell_type": "code",
   "execution_count": null,
   "metadata": {},
   "outputs": [],
   "source": []
  }
 ],
 "metadata": {
  "kernelspec": {
   "display_name": "Python 3",
   "language": "python",
   "name": "python3"
  },
  "language_info": {
   "codemirror_mode": {
    "name": "ipython",
    "version": 3
   },
   "file_extension": ".py",
   "mimetype": "text/x-python",
   "name": "python",
   "nbconvert_exporter": "python",
   "pygments_lexer": "ipython3",
   "version": "3.6.8"
  }
 },
 "nbformat": 4,
 "nbformat_minor": 2
}
